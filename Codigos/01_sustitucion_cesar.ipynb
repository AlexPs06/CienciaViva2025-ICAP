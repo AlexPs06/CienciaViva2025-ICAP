{
 "cells": [
  {
   "cell_type": "code",
   "execution_count": 1,
   "id": "403a6cf9",
   "metadata": {},
   "outputs": [],
   "source": [
    "# Notebook 01: Cifrado por Sustitución y César\n",
    "\n",
    "### 📦 Celda 1: Librerías y alfabeto\n",
    "import string\n",
    "import matplotlib.pyplot as plt\n",
    "from collections import Counter\n",
    "\n",
    "# Alfabeto para trabajar en mayúsculas sin espacios ni tildes\n",
    "ALPHABET = string.ascii_uppercase"
   ]
  },
  {
   "cell_type": "code",
   "execution_count": 2,
   "id": "d5879e9c",
   "metadata": {},
   "outputs": [],
   "source": [
    "### 🔐 Celda 2: Funciones de cifrado y descifrado\n",
    "\n",
    "def cifrado_cesar(texto, desplazamiento):\n",
    "    resultado = \"\"\n",
    "    texto = texto.upper()\n",
    "    for letra in texto:\n",
    "        if letra in ALPHABET:\n",
    "            indice = (ALPHABET.index(letra) + desplazamiento) % 26\n",
    "            resultado += ALPHABET[indice]\n",
    "        else:\n",
    "            resultado += letra  # Mantener espacios o puntuación\n",
    "    return resultado\n",
    "\n",
    "def descifrado_cesar(texto, desplazamiento):\n",
    "    return cifrado_cesar(texto, -desplazamiento)"
   ]
  },
  {
   "cell_type": "code",
   "execution_count": 3,
   "id": "ee18a944",
   "metadata": {},
   "outputs": [
    {
     "name": "stdout",
     "output_type": "stream",
     "text": [
      "Texto original : HOLA MUNDO A\n",
      "Texto cifrado  : JQNC OWPFQ C\n",
      "Texto descifrado: HOLA MUNDO A\n"
     ]
    }
   ],
   "source": [
    "### 🧪 Celda 3: Ejemplo básico\n",
    "texto_original = \"HOLA MUNDO A\"\n",
    "desplazamiento = 2\n",
    "\n",
    "cifrado = cifrado_cesar(texto_original, desplazamiento)\n",
    "descifrado = descifrado_cesar(cifrado, desplazamiento)\n",
    "\n",
    "print(f\"Texto original : {texto_original}\")\n",
    "print(f\"Texto cifrado  : {cifrado}\")\n",
    "print(f\"Texto descifrado: {descifrado}\")\n"
   ]
  },
  {
   "cell_type": "code",
   "execution_count": 5,
   "id": "4e7abb3d",
   "metadata": {},
   "outputs": [
    {
     "name": "stdout",
     "output_type": "stream",
     "text": [
      "Letra más común en el texto cifrado: Q\n",
      "Clave (desplazamiento) estimada: 12\n",
      "Texto descifrado usando análisis de frecuencia:\n",
      "XEBQ CKDTE Q\n"
     ]
    }
   ],
   "source": [
    "\n",
    "### 🔍 Celda 4: Obtención de la clave mediante análisis de frecuencia\n",
    "\n",
    "def obtener_clave_por_frecuencia(texto_cifrado):\n",
    "    texto_cifrado = texto_cifrado.upper()\n",
    "    letras_filtradas = [letra for letra in texto_cifrado if letra in ALPHABET]\n",
    "    frecuencia = Counter(letras_filtradas)\n",
    "    letra_mas_comun = frecuencia.most_common(1)[0][0]\n",
    "    print(f\"Letra más común en el texto cifrado: {letra_mas_comun}\")\n",
    "\n",
    "    # Suponemos que esta letra representa la 'E'\n",
    "    desplazamiento = (ALPHABET.index(letra_mas_comun) - ALPHABET.index('E')) % 26\n",
    "    print(f\"Clave (desplazamiento) estimada: {desplazamiento}\")\n",
    "    return desplazamiento\n",
    "\n",
    "# Prueba con el texto cifrado anterior\n",
    "clave_estimacion = obtener_clave_por_frecuencia(cifrado)\n",
    "texto_descifrado_estimado = descifrado_cesar(cifrado, clave_estimacion)\n",
    "\n",
    "print(\"Texto descifrado usando análisis de frecuencia:\")\n",
    "print(texto_descifrado_estimado)\n"
   ]
  },
  {
   "cell_type": "code",
   "execution_count": null,
   "id": "d989d8b8",
   "metadata": {},
   "outputs": [
    {
     "name": "stdout",
     "output_type": "stream",
     "text": [
      "\n",
      "Resultado:\n",
      "Texto original : aqui va tu texto \n",
      "Texto cifrado  : FVZN AF YZ YJCYT \n"
     ]
    }
   ],
   "source": [
    "### 🧑‍💻 Celda 5: Interacción con el usuario\n",
    "\n",
    "texto_usuario = \"aqui va tu texto \"#\"Ingresa el texto que deseas cifrar: \"\n",
    "clave_usuario = 5 #\"Ingresa el desplazamiento (clave) [0-25]: \"\n",
    "\n",
    "texto_cifrado_usuario = cifrado_cesar(texto_usuario, clave_usuario)\n",
    "\n",
    "print(\"\\nResultado:\")\n",
    "print(f\"Texto original : {texto_usuario}\")\n",
    "print(f\"Texto cifrado  : {texto_cifrado_usuario}\")"
   ]
  },
  {
   "cell_type": "code",
   "execution_count": null,
   "id": "6300478f",
   "metadata": {},
   "outputs": [
    {
     "name": "stdout",
     "output_type": "stream",
     "text": [
      "\n",
      "Resultado:\n",
      "Texto cifrado  : FVZN AF YZ YJCYT \n",
      "Texto descifrado: AQUI VA TU TEXTO \n"
     ]
    }
   ],
   "source": [
    "### Celda 6: Descifradod cesar\n",
    "\n",
    "\n",
    "clave_usuario = 5 #\"Ingresa el desplazamiento (clave) [0-25]: \"\n",
    "#texto_cifrado_usuario #esta linea la usaremos para mandarse mensajes\n",
    "texto_descifrado_usuario = descifrado_cesar(texto_cifrado_usuario, clave_usuario)\n",
    "\n",
    "print(\"\\nResultado:\")\n",
    "print(f\"Texto cifrado  : {texto_cifrado_usuario}\")\n",
    "print(f\"Texto descifrado: {texto_descifrado_usuario}\")"
   ]
  },
  {
   "cell_type": "code",
   "execution_count": null,
   "id": "c6e82485",
   "metadata": {},
   "outputs": [
    {
     "data": {
      "image/png": "[encoded data removed]",
      "text/plain": [
       "<Figure size 1200x500 with 1 Axes>"
      ]
     },
     "metadata": {},
     "output_type": "display_data"
    }
   ],
   "source": [
    "\n",
    "### 📊 Celda 7: Análisis de frecuencia\n",
    "%matplotlib inline\n",
    "def graficar_frecuencia(texto):\n",
    "    texto = texto.upper()\n",
    "    solo_letras = [c for c in texto if c in ALPHABET]\n",
    "    conteo = Counter(solo_letras)\n",
    "    Alfabeto = [\"A\",\"B\",\"C\",\"D\",\"E\",\"F\",\"G\",\"H\",\"I\",\"J\",\"K\",\"L\",\"M\",\"N\",\"O\",\"P\",\"Q\",\"R\",\"S\",\"T\",\"U\",\"V\",\"W\",\"X\",\"Y\",\"Z\",]\n",
    "\n",
    "    # Mostrar el conteo por consola (opcional pero útil para depurar)\n",
    "    # print(\"Conteo de letras:\")\n",
    "    # for letra in ALPHABET:\n",
    "    #     if conteo.get(letra, 0) > 0:\n",
    "    #         print(f\"{letra}: {conteo[letra]}\")\n",
    "    \n",
    "    # Preparar los datos para el gráfico\n",
    "    frecuencias = [conteo.get(letra, 0) for letra in ALPHABET]\n",
    "\n",
    "    plt.figure(figsize=(12, 5))\n",
    "    plt.bar(Alfabeto, frecuencias,width=0.7)\n",
    "\n",
    "    plt.title(\"Frecuencia de letras\")\n",
    "    plt.xlabel(\"Letra\")\n",
    "    plt.ylabel(\"Frecuencia\")\n",
    "    plt.grid(axis='y', linestyle='--', alpha=0.7)\n",
    "    plt.show()\n",
    "\n",
    "# Para probar:\n",
    "graficar_frecuencia(\"ESTE ES UN TEXTO DE PRUEBA QUE CONTIENE MUCHAS LETRAS Y SIRVE PARA VER LA DISTRIBUCION DE FRECUENCIA\")"
   ]
  },
  {
   "cell_type": "code",
   "execution_count": null,
   "id": "4e54013a",
   "metadata": {},
   "outputs": [
    {
     "name": "stdout",
     "output_type": "stream",
     "text": [
      "\n",
      "Resultado:\n",
      "Texto cifrado  : JXYJ JX ZS YJCYT IJ UWZJGF VZJ HTSYNJSJ RZHMFX QJYWFX D XNWAJ UFWF AJW QF INXYWNGZHNTS IJ KWJHZJSHNF\n"
     ]
    },
    {
     "data": {
      "image/png": "[encoded data removed]",
      "text/plain": [
       "<Figure size 1200x500 with 1 Axes>"
      ]
     },
     "metadata": {},
     "output_type": "display_data"
    }
   ],
   "source": [
    "\n",
    "### 📊 Celda 8: Análisis de frecuencia de un texto cifrado\n",
    "%matplotlib inline\n",
    "def graficar_frecuencia(texto):\n",
    "    texto = texto.upper()\n",
    "    solo_letras = [c for c in texto if c in ALPHABET]\n",
    "    conteo = Counter(solo_letras)\n",
    "    Alfabeto = [\"A\",\"B\",\"C\",\"D\",\"E\",\"F\",\"G\",\"H\",\"I\",\"J\",\"K\",\"L\",\"M\",\"N\",\"O\",\"P\",\"Q\",\"R\",\"S\",\"T\",\"U\",\"V\",\"W\",\"X\",\"Y\",\"Z\",]\n",
    "\n",
    "    # Mostrar el conteo por consola (opcional pero útil para depurar)\n",
    "    # print(\"Conteo de letras:\")\n",
    "    # for letra in ALPHABET:\n",
    "    #     if conteo.get(letra, 0) > 0:\n",
    "    #         print(f\"{letra}: {conteo[letra]}\")\n",
    "    \n",
    "    # Preparar los datos para el gráfico\n",
    "    frecuencias = [conteo.get(letra, 0) for letra in ALPHABET]\n",
    "\n",
    "    plt.figure(figsize=(12, 5))\n",
    "    plt.bar(Alfabeto, frecuencias,width=0.7)\n",
    "\n",
    "    plt.title(\"Frecuencia de letras\")\n",
    "    plt.xlabel(\"Letra\")\n",
    "    plt.ylabel(\"Frecuencia\")\n",
    "    plt.grid(axis='y', linestyle='--', alpha=0.7)\n",
    "    plt.show()\n",
    "\n",
    "\n",
    "\n",
    "### 🧑‍💻 Celda 5: Interacción con el usuario\n",
    "\n",
    "texto_usuario = \"ESTE ES UN TEXTO DE PRUEBA QUE CONTIENE MUCHAS LETRAS Y SIRVE PARA VER LA DISTRIBUCION DE FRECUENCIA\"#\"Ingresa el texto que deseas cifrar: \"\n",
    "clave_usuario = 5 #\"Ingresa el desplazamiento (clave) [0-25]: \"\n",
    "\n",
    "texto_cifrado_usuario = cifrado_cesar(texto_usuario, clave_usuario)\n",
    "\n",
    "print(\"\\nResultado:\")\n",
    "print(f\"Texto cifrado  : {texto_cifrado_usuario}\")\n",
    "\n",
    "graficar_frecuencia(texto_cifrado_usuario)\n"
   ]
  },
  {
   "cell_type": "code",
   "execution_count": null,
   "id": "65828cd0",
   "metadata": {},
   "outputs": [
    {
     "name": "stdout",
     "output_type": "stream",
     "text": [
      "Letra más común: J\n",
      "Clave estimada: 5\n",
      "\n",
      "Texto descifrado (estimado):\n",
      "ESTE ES UN TEXTO DE PRUEBA QUE CONTIENE MUCHAS LETRAS Y SIRVE PARA VER LA DISTRIBUCION DE FRECUENCIA\n"
     ]
    }
   ],
   "source": [
    "# 🔍 Celda 9: Análisis de frecuencia y obtención de la clave\n",
    "\n",
    "from collections import Counter\n",
    "\n",
    "# Texto cifrado a analizar\n",
    "texto_cifrado = texto_cifrado_usuario  # Asegúrate que esta variable esté definida\n",
    "\n",
    "# Contamos la frecuencia de cada letra\n",
    "frecuencias = Counter([c for c in texto_cifrado.upper() if c.isalpha()])\n",
    "letra_mas_comun = frecuencias.most_common(1)[0][0]\n",
    "\n",
    "# Suponemos que la letra más común representa la 'E'\n",
    "pos_letra_comun = ord(letra_mas_comun) - ord('A')\n",
    "pos_E = ord('E') - ord('A')\n",
    "\n",
    "clave_estimada = (pos_letra_comun - pos_E) % 26\n",
    "print(f\"Letra más común: {letra_mas_comun}\")\n",
    "print(f\"Clave estimada: {clave_estimada}\")\n",
    "\n",
    "texto_descifrado = descifrado_cesar(texto_cifrado, clave_estimada)\n",
    "\n",
    "# Mostrar resultado\n",
    "print(\"\\nTexto descifrado (estimado):\")\n",
    "print(texto_descifrado)\n"
   ]
  },
  {
   "cell_type": "code",
   "execution_count": null,
   "id": "42cfc229",
   "metadata": {},
   "outputs": [],
   "source": [
    "### 🔍 Celda 10: Ataque de fuerza bruta\n",
    "\n",
    "def fuerza_bruta(texto_cifrado):\n",
    "    print(\"\\nIntentos de descifrado por fuerza bruta:\")\n",
    "    for k in range(26):\n",
    "        print(f\"Clave {k:2d}: {descifrado_cesar(texto_cifrado, k)}\")\n",
    "\n",
    "# Para probar:\n",
    "fuerza_bruta(\"KROD PXQGR\")"
   ]
  }
 ],
 "metadata": {
  "kernelspec": {
   "display_name": "cripto.venv",
   "language": "python",
   "name": "python3"
  },
  "language_info": {
   "codemirror_mode": {
    "name": "ipython",
    "version": 3
   },
   "file_extension": ".py",
   "mimetype": "text/x-python",
   "name": "python",
   "nbconvert_exporter": "python",
   "pygments_lexer": "ipython3",
   "version": "3.13.0"
  }
 },
 "nbformat": 4,
 "nbformat_minor": 5
}
