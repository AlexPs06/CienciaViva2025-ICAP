{
 "cells": [
  {
   "cell_type": "code",
   "execution_count": 10,
   "id": "403a6cf9",
   "metadata": {},
   "outputs": [
    {
     "name": "stderr",
     "output_type": "stream",
     "text": [
      "Matplotlib is building the font cache; this may take a moment.\n"
     ]
    }
   ],
   "source": [
    "# Notebook 01: Cifrado por Sustitución y César\n",
    "\n",
    "### 📦 Celda 1: Librerías y alfabeto\n",
    "import string\n",
    "import matplotlib.pyplot as plt\n",
    "from collections import Counter\n",
    "\n",
    "# Alfabeto para trabajar en mayúsculas sin espacios ni tildes\n",
    "ALPHABET = string.ascii_uppercase"
   ]
  },
  {
   "cell_type": "code",
   "execution_count": 11,
   "id": "d5879e9c",
   "metadata": {},
   "outputs": [],
   "source": [
    "### 🔐 Celda 2: Funciones de cifrado y descifrado\n",
    "\n",
    "def cifrado_cesar(texto, desplazamiento):\n",
    "    resultado = \"\"\n",
    "    texto = texto.upper()\n",
    "    for letra in texto:\n",
    "        if letra in ALPHABET:\n",
    "            indice = (ALPHABET.index(letra) + desplazamiento) % 26\n",
    "            resultado += ALPHABET[indice]\n",
    "        else:\n",
    "            resultado += letra  # Mantener espacios o puntuación\n",
    "    return resultado\n",
    "\n",
    "def descifrado_cesar(texto, desplazamiento):\n",
    "    return cifrado_cesar(texto, -desplazamiento)"
   ]
  },
  {
   "cell_type": "code",
   "execution_count": 12,
   "id": "ee18a944",
   "metadata": {},
   "outputs": [
    {
     "name": "stdout",
     "output_type": "stream",
     "text": [
      "Texto original : HOLA MUNDO\n",
      "Texto cifrado  : KROD PXQGR\n",
      "Texto descifrado: HOLA MUNDO\n"
     ]
    }
   ],
   "source": [
    "### 🧪 Celda 3: Ejemplo básico\n",
    "texto_original = \"HOLA MUNDO\"\n",
    "desplazamiento = 3\n",
    "\n",
    "cifrado = cifrado_cesar(texto_original, desplazamiento)\n",
    "descifrado = descifrado_cesar(cifrado, desplazamiento)\n",
    "\n",
    "print(f\"Texto original : {texto_original}\")\n",
    "print(f\"Texto cifrado  : {cifrado}\")\n",
    "print(f\"Texto descifrado: {descifrado}\")\n"
   ]
  },
  {
   "cell_type": "code",
   "execution_count": 37,
   "id": "2c85b7be",
   "metadata": {},
   "outputs": [
    {
     "name": "stdout",
     "output_type": "stream",
     "text": [
      "\n",
      "Intentos de descifrado por fuerza bruta:\n",
      "Clave  0: KROD PXQGR\n",
      "Clave  1: JQNC OWPFQ\n",
      "Clave  2: IPMB NVOEP\n",
      "Clave  3: HOLA MUNDO\n",
      "Clave  4: GNKZ LTMCN\n",
      "Clave  5: FMJY KSLBM\n",
      "Clave  6: ELIX JRKAL\n",
      "Clave  7: DKHW IQJZK\n",
      "Clave  8: CJGV HPIYJ\n",
      "Clave  9: BIFU GOHXI\n",
      "Clave 10: AHET FNGWH\n",
      "Clave 11: ZGDS EMFVG\n",
      "Clave 12: YFCR DLEUF\n",
      "Clave 13: XEBQ CKDTE\n",
      "Clave 14: WDAP BJCSD\n",
      "Clave 15: VCZO AIBRC\n",
      "Clave 16: UBYN ZHAQB\n",
      "Clave 17: TAXM YGZPA\n",
      "Clave 18: SZWL XFYOZ\n",
      "Clave 19: RYVK WEXNY\n",
      "Clave 20: QXUJ VDWMX\n",
      "Clave 21: PWTI UCVLW\n",
      "Clave 22: OVSH TBUKV\n",
      "Clave 23: NURG SATJU\n",
      "Clave 24: MTQF RZSIT\n",
      "Clave 25: LSPE QYRHS\n"
     ]
    }
   ],
   "source": [
    "### 🔍 Celda 4: Ataque de fuerza bruta\n",
    "\n",
    "def fuerza_bruta(texto_cifrado):\n",
    "    print(\"\\nIntentos de descifrado por fuerza bruta:\")\n",
    "    for k in range(26):\n",
    "        print(f\"Clave {k:2d}: {descifrado_cesar(texto_cifrado, k)}\")\n",
    "\n",
    "# Para probar:\n",
    "fuerza_bruta(\"KROD PXQGR\")"
   ]
  },
  {
   "cell_type": "code",
   "execution_count": 14,
   "id": "d989d8b8",
   "metadata": {},
   "outputs": [
    {
     "name": "stdout",
     "output_type": "stream",
     "text": [
      "\n",
      "Resultado:\n",
      "Texto original : hola\n",
      "Texto cifrado  : LSPE\n",
      "Texto descifrado: HOLA\n"
     ]
    }
   ],
   "source": [
    "### 🧑‍💻 Celda 5: Interacción con el usuario\n",
    "\n",
    "texto_usuario = input(\"Ingresa el texto que deseas cifrar: \")\n",
    "clave_usuario = int(input(\"Ingresa el desplazamiento (clave) [0-25]: \"))\n",
    "\n",
    "texto_cifrado_usuario = cifrado_cesar(texto_usuario, clave_usuario)\n",
    "texto_descifrado_usuario = descifrado_cesar(texto_cifrado_usuario, clave_usuario)\n",
    "\n",
    "print(\"\\nResultado:\")\n",
    "print(f\"Texto original : {texto_usuario}\")\n",
    "print(f\"Texto cifrado  : {texto_cifrado_usuario}\")\n",
    "print(f\"Texto descifrado: {texto_descifrado_usuario}\")"
   ]
  },
  {
   "cell_type": "code",
   "execution_count": 15,
   "id": "865fd3f2",
   "metadata": {},
   "outputs": [
    {
     "name": "stdout",
     "output_type": "stream",
     "text": [
      "\n",
      "Resultados del ataque por fuerza bruta:\n",
      "\n",
      "Intentos de descifrado por fuerza bruta:\n",
      "Clave  0: LSPE\n",
      "Clave  1: KROD\n",
      "Clave  2: JQNC\n",
      "Clave  3: IPMB\n",
      "Clave  4: HOLA\n",
      "Clave  5: GNKZ\n",
      "Clave  6: FMJY\n",
      "Clave  7: ELIX\n",
      "Clave  8: DKHW\n",
      "Clave  9: CJGV\n",
      "Clave 10: BIFU\n",
      "Clave 11: AHET\n",
      "Clave 12: ZGDS\n",
      "Clave 13: YFCR\n",
      "Clave 14: XEBQ\n",
      "Clave 15: WDAP\n",
      "Clave 16: VCZO\n",
      "Clave 17: UBYN\n",
      "Clave 18: TAXM\n",
      "Clave 19: SZWL\n",
      "Clave 20: RYVK\n",
      "Clave 21: QXUJ\n",
      "Clave 22: PWTI\n",
      "Clave 23: OVSH\n",
      "Clave 24: NURG\n",
      "Clave 25: MTQF\n"
     ]
    }
   ],
   "source": [
    "### 🕵️ Celda 6: Fuerza bruta con entrada del usuario\n",
    "\n",
    "cifrado_bruto = input(\"\\nIngresa el texto cifrado para intentar fuerza bruta: \")\n",
    "print(\"\\nResultados del ataque por fuerza bruta:\")\n",
    "fuerza_bruta(cifrado_bruto)"
   ]
  },
  {
   "cell_type": "code",
   "execution_count": 35,
   "id": "c6e82485",
   "metadata": {},
   "outputs": [
    {
     "data": {
      "image/png": "[encoded data removed]",
      "text/plain": [
       "<Figure size 1200x500 with 1 Axes>"
      ]
     },
     "metadata": {},
     "output_type": "display_data"
    }
   ],
   "source": [
    "\n",
    "### 📊 Celda 7: Análisis de frecuencia\n",
    "%matplotlib inline\n",
    "def graficar_frecuencia(texto):\n",
    "    texto = texto.upper()\n",
    "    solo_letras = [c for c in texto if c in ALPHABET]\n",
    "    conteo = Counter(solo_letras)\n",
    "    Alfabeto = [\"A\",\"B\",\"C\",\"D\",\"E\",\"F\",\"G\",\"H\",\"I\",\"J\",\"K\",\"L\",\"M\",\"N\",\"O\",\"P\",\"Q\",\"R\",\"S\",\"T\",\"U\",\"V\",\"W\",\"X\",\"Y\",\"Z\",]\n",
    "\n",
    "    # Mostrar el conteo por consola (opcional pero útil para depurar)\n",
    "    # print(\"Conteo de letras:\")\n",
    "    # for letra in ALPHABET:\n",
    "    #     if conteo.get(letra, 0) > 0:\n",
    "    #         print(f\"{letra}: {conteo[letra]}\")\n",
    "    \n",
    "    # Preparar los datos para el gráfico\n",
    "    frecuencias = [conteo.get(letra, 0) for letra in ALPHABET]\n",
    "\n",
    "    plt.figure(figsize=(12, 5))\n",
    "    plt.bar(Alfabeto, frecuencias,width=0.7)\n",
    "\n",
    "    plt.title(\"Frecuencia de letras\")\n",
    "    plt.xlabel(\"Letra\")\n",
    "    plt.ylabel(\"Frecuencia\")\n",
    "    plt.grid(axis='y', linestyle='--', alpha=0.7)\n",
    "    plt.show()\n",
    "\n",
    "# Para probar:\n",
    "graficar_frecuencia(\"ESTE ES UN TEXTO DE PRUEBA QUE CONTIENE MUCHAS LETRAS Y SIRVE PARA VER LA DISTRIBUCION DE FRECUENCIA\")"
   ]
  }
 ],
 "metadata": {
  "kernelspec": {
   "display_name": ".venv",
   "language": "python",
   "name": "python3"
  },
  "language_info": {
   "codemirror_mode": {
    "name": "ipython",
    "version": 3
   },
   "file_extension": ".py",
   "mimetype": "text/x-python",
   "name": "python",
   "nbconvert_exporter": "python",
   "pygments_lexer": "ipython3",
   "version": "3.13.0"
  }
 },
 "nbformat": 4,
 "nbformat_minor": 5
}
